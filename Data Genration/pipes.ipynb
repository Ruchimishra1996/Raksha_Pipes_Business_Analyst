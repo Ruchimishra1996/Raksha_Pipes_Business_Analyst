{
 "cells": [
  {
   "cell_type": "code",
   "execution_count": 52,
   "metadata": {},
   "outputs": [],
   "source": [
    "import pandas as pd\n",
    "import random\n",
    "from faker import Faker\n",
    "from datetime import datetime, timedelta"
   ]
  },
  {
   "cell_type": "code",
   "execution_count": 53,
   "metadata": {},
   "outputs": [],
   "source": [
    "# Create Faker instance\n",
    "fake = Faker()"
   ]
  },
  {
   "cell_type": "code",
   "execution_count": 54,
   "metadata": {},
   "outputs": [],
   "source": [
    "# Generate fake customers data \n",
    "def generate_customers(num_records):\n",
    "    return pd.DataFrame({\n",
    "        'CustomerID': [str(fake.random_number(digits=3)).zfill(3) for _ in range(num_records)],\n",
    "        'FirstName': [fake.name() for _ in range(num_records)],\n",
    "        'Address': [fake.address().replace('\\n', ', ') for _ in range(num_records)],\n",
    "        'Email': [fake.email() for _ in range(num_records)],\n",
    "        'PhoneNumber': [fake.phone_number() for _ in range(num_records)],\n",
    "        'Job': [fake.job() for _ in range(num_records)],\n",
    "        'Company': [fake.company() for _ in range(num_records)]\n",
    "    })"
   ]
  },
  {
   "cell_type": "code",
   "execution_count": 55,
   "metadata": {},
   "outputs": [],
   "source": [
    "# Generate fake products data\n",
    "def generate_products(num_records):\n",
    "    product_brands = {\n",
    "        'CPVC Pipes': ['Ashirvad Pipes', 'Astral Pipes', 'Finolex Industries', 'Prince Pipes', 'Supreme Pipes'],\n",
    "        'UPVC Pipes': ['Apollo Pipes', 'Ashirvad Pipes', 'Finolex Industries', 'Prince Pipes', 'Supreme Pipes'],\n",
    "        'SWR Pipes': ['Ashirvad Pipes', 'Astral Pipes', 'Finolex Industries', 'Prince Pipes', 'Supreme Industries Ltd.'],\n",
    "        'Underground Pipes': ['Astral Pipes', 'Jain Irrigation Systems Ltd.', 'Finolex Industries', 'Prince Pipes', 'Supreme Industries Ltd.'],\n",
    "        'Ball Valves': ['Ashirvad Pipes', 'Astral Pipes', 'Finolex Industries', 'Prince Pipes', 'Supreme Industries Ltd.'],\n",
    "        'Riser Pipes': ['Cera Sanitaryware Ltd.', 'Jaquar Group', 'Kohler India Corporation Pvt. Ltd.'],\n",
    "        'HDPE Pipes': ['Astral Pipes', 'Finolex Industries', 'Jain Irrigation Systems Ltd.', 'Prince Pipes', 'Supreme Industries Ltd.'],\n",
    "        'Casing Pipes': ['Ashirvad Pipes', 'Jain Irrigation Systems Ltd.', 'Finolex Industries', 'Prince Pipes', 'Supreme Industries Ltd.'],\n",
    "        'Pressure Pipes': ['Ashirvad Pipes', 'Jain Irrigation Systems Ltd.', 'Finolex Industries', 'Supreme Industries Ltd.', 'Prince Pipes'],\n",
    "        'Suction Pipes': ['Ashirvad Pipes', 'Jain Irrigation Systems Ltd.', 'Finolex Industries', 'Prince Pipes', 'Supreme Industries Ltd.'],\n",
    "        'Duct Pipes': ['Ashirvad Pipes', 'Jain Irrigation Systems Ltd.', 'Finolex Industries', 'Prince Pipes', 'Supreme Industries Ltd.'],\n",
    "        'Steel Wire Reinforced Pipes': ['Ashirvad Pipes', 'Jain Irrigation Systems Ltd.', 'Finolex Industries', 'Prince Pipes', 'Supreme Industries Ltd.'],\n",
    "        'PTMP Taps and Fittings Pipes': ['Cera Sanitaryware Ltd.', 'Kohler India Corporation Pvt. Ltd.', 'Hindware', 'Jaquar Group', 'Parryware'],\n",
    "        'Flushing Cistern': ['Cera Sanitaryware Ltd.', 'Kohler India Corporation Pvt. Ltd.', 'Hindware', 'Jaquar Group', 'Parryware'],\n",
    "        'Bathroom Accessories Pipes': ['Cera Sanitaryware Ltd.', 'Kohler India Corporation Pvt. Ltd.', 'Hindware', 'Jaquar Group', 'Parryware']\n",
    "    }\n",
    "    categories = list(product_brands.keys())\n",
    "    return pd.DataFrame({\n",
    "        'ProductID': [str(fake.random_number(digits=3)).zfill(3) for _ in range(num_records)],\n",
    "        'SupplierID': [str(fake.random_number(digits=3)).zfill(3) for _ in range(num_records)],\n",
    "        'CategoryID': [str(fake.random_number(digits=3)).zfill(3) for _ in range(num_records)],\n",
    "        'Category': [random.choice(categories) for _ in range(num_records)],\n",
    "        'Description': [fake.sentence() for _ in range(num_records)],\n",
    "        'Price': [round(random.uniform(10, 1000), 2) for _ in range(num_records)],\n",
    "        'StockQuantity': [random.randint(0, 1000) for _ in range(num_records)],\n",
    "        'ProductName': [random.choice(product_brands[category]) for category in random.choices(categories, k=num_records)]\n",
    "    })"
   ]
  },
  {
   "cell_type": "code",
   "execution_count": 56,
   "metadata": {},
   "outputs": [],
   "source": [
    "# Generate fake orders data\n",
    "def generate_orders(num_records):\n",
    "    return pd.DataFrame({\n",
    "        'OrderID': [str(fake.random_number(digits=3)).zfill(3) for _ in range(num_records)],\n",
    "        'ShipperID': [str(fake.random_number(digits=3)).zfill(3) for _ in range(num_records)],\n",
    "        'CustomerID': [str(fake.random_number(digits=3)).zfill(3) for _ in range(num_records)],\n",
    "        'TotalOrderAmount': [random.randint(1, 1000000) for _ in range(num_records)],\n",
    "        'OrderDate': [(datetime.now() - timedelta(days=random.randint(1, 365))).strftime('%Y-%m-%d') for _ in range(num_records)]\n",
    "    })"
   ]
  },
  {
   "cell_type": "code",
   "execution_count": 57,
   "metadata": {},
   "outputs": [],
   "source": [
    "# Generate fake ordersdetails data\n",
    "def generate_order_details(num_records):\n",
    "    return pd.DataFrame({\n",
    "        'OrderID': [str(fake.random_number(digits=3)).zfill(3) for _ in range(num_records)],\n",
    "        'ProductID': [str(fake.random_number(digits=3)).zfill(3) for _ in range(num_records)],\n",
    "        'Quantity': [random.randint(1, 10) for _ in range(num_records)],\n",
    "        'UnitPrice': [round(random.uniform(10, 100), 2) for _ in range(num_records)]\n",
    "    })"
   ]
  },
  {
   "cell_type": "code",
   "execution_count": 58,
   "metadata": {},
   "outputs": [],
   "source": [
    "# Generate fake Categories data\n",
    "def generate_categories(num_records):\n",
    "    return pd.DataFrame({\n",
    "        'CategoryID': [str(fake.random_number(digits=3)).zfill(3) for _ in range(num_records)],\n",
    "        'CategoryName': [fake.word() for _ in range(num_records)]\n",
    "    })"
   ]
  },
  {
   "cell_type": "code",
   "execution_count": 59,
   "metadata": {},
   "outputs": [],
   "source": [
    "# Generate fake Payments data\n",
    "def generate_payments(num_records):\n",
    "    return pd.DataFrame({\n",
    "        'PaymentID': [str(fake.random_number(digits=3)).zfill(3) for _ in range(num_records)],\n",
    "        'OrderID': [str(fake.random_number(digits=3)).zfill(3) for _ in range(num_records)],\n",
    "        'PaymentType': [fake.random_element(elements=('Credit Card', 'Debit Card', 'PayPal', 'Cash')) for _ in range(num_records)],\n",
    "        'PaymentDate': [(datetime.now() - timedelta(days=random.randint(1, 365))).strftime('%Y-%m-%d') for _ in range(num_records)]\n",
    "    })"
   ]
  },
  {
   "cell_type": "code",
   "execution_count": 60,
   "metadata": {},
   "outputs": [],
   "source": [
    "# Generate fake Suppliers data\n",
    "def generate_suppliers(num_records):\n",
    "    return pd.DataFrame({\n",
    "        'SupplierID': [str(fake.random_number(digits=3)).zfill(3) for _ in range(num_records)],\n",
    "        'SupplierName': [fake.company() for _ in range(num_records)],\n",
    "        'PostalCode': [fake.postalcode() for _ in range(num_records)],\n",
    "        'City': [fake.city() for _ in range(num_records)],\n",
    "        'Country': [fake.country() for _ in range(num_records)],\n",
    "        'State': [fake.state() for _ in range(num_records)],\n",
    "        'Email': [fake.email() for _ in range(num_records)],\n",
    "        'Phone': [fake.phone_number() for _ in range(num_records)]\n",
    "    })"
   ]
  },
  {
   "cell_type": "code",
   "execution_count": 61,
   "metadata": {},
   "outputs": [],
   "source": [
    "# Generate fake Shippers data\n",
    "def generate_shippers(num_records):\n",
    "    return pd.DataFrame({\n",
    "        'ShipperID': [str(fake.random_number(digits=3)).zfill(3) for _ in range(num_records)],\n",
    "        'ShipperName': [fake.company() for _ in range(num_records)],\n",
    "        'Phone': [fake.phone_number() for _ in range(num_records)]\n",
    "    })"
   ]
  },
  {
   "cell_type": "code",
   "execution_count": 62,
   "metadata": {},
   "outputs": [],
   "source": [
    "# Generate data\n",
    "customers_df = generate_customers(600)\n",
    "orders_df = generate_orders(600)\n",
    "order_details_df = generate_order_details(600)\n",
    "categories_df = generate_categories(600)\n",
    "products_df = generate_products(600)\n",
    "shippers_df = generate_shippers(600)\n",
    "suppliers_df = generate_suppliers(600)\n",
    "payments_df = generate_payments(600)"
   ]
  },
  {
   "cell_type": "code",
   "execution_count": 63,
   "metadata": {},
   "outputs": [],
   "source": [
    "# Save to CSV files\n",
    "customers_df.to_csv('customers.csv', index=False)\n",
    "orders_df.to_csv('orders.csv', index=False)\n",
    "order_details_df.to_csv('orderdetails.csv', index=False)\n",
    "categories_df.to_csv('categories.csv', index=False)\n",
    "products_df.to_csv('products.csv', index=False)\n",
    "shippers_df.to_csv('shippers.csv', index=False)\n",
    "suppliers_df.to_csv('suppliers.csv', index=False)\n",
    "payments_df.to_csv('payments.csv', index=False)\n"
   ]
  }
 ],
 "metadata": {
  "kernelspec": {
   "display_name": "Python 3",
   "language": "python",
   "name": "python3"
  },
  "language_info": {
   "codemirror_mode": {
    "name": "ipython",
    "version": 3
   },
   "file_extension": ".py",
   "mimetype": "text/x-python",
   "name": "python",
   "nbconvert_exporter": "python",
   "pygments_lexer": "ipython3",
   "version": "3.11.5"
  }
 },
 "nbformat": 4,
 "nbformat_minor": 2
}
